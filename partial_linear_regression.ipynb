{
  "nbformat": 4,
  "nbformat_minor": 0,
  "metadata": {
    "colab": {
      "name": "partial linear regression",
      "provenance": [],
      "authorship_tag": "ABX9TyOtMZNDTPCMEEixRH0k/Ml/",
      "include_colab_link": true
    },
    "kernelspec": {
      "name": "python3",
      "display_name": "Python 3"
    },
    "language_info": {
      "name": "python"
    }
  },
  "cells": [
    {
      "cell_type": "markdown",
      "metadata": {
        "id": "view-in-github",
        "colab_type": "text"
      },
      "source": [
        "<a href=\"https://colab.research.google.com/github/SreeBhargaviM/Neural-Networks-from-scratch-Python/blob/master/partial_linear_regression.ipynb\" target=\"_parent\"><img src=\"https://colab.research.google.com/assets/colab-badge.svg\" alt=\"Open In Colab\"/></a>"
      ]
    },
    {
      "cell_type": "code",
      "metadata": {
        "id": "Dh5RX2gjWxa7"
      },
      "source": [
        "import numpy as np\n",
        "def define_weights_matrix(n_feat):\n",
        "  mat = np.random.rand(1,n_feat+1)\n",
        "  #mat[0][n_feat] = 1\n",
        "  return mat"
      ],
      "execution_count": null,
      "outputs": []
    },
    {
      "cell_type": "code",
      "metadata": {
        "id": "y-OKhJk7XdXL"
      },
      "source": [
        "w = define_weights_matrix(3)"
      ],
      "execution_count": null,
      "outputs": []
    },
    {
      "cell_type": "code",
      "metadata": {
        "id": "0Az8gI-9XmGv"
      },
      "source": [
        "def forward_pass(x_train, weights):\n",
        "  return np.matmul(weights, x_train)"
      ],
      "execution_count": null,
      "outputs": []
    },
    {
      "cell_type": "code",
      "metadata": {
        "id": "pu0rUL2BYZan"
      },
      "source": [
        "x_train = np.array([[1.4,2,3],[-2,3.9,2],[0.8, 2.1, 4], [1,1,1]])"
      ],
      "execution_count": null,
      "outputs": []
    },
    {
      "cell_type": "code",
      "metadata": {
        "colab": {
          "base_uri": "https://localhost:8080/"
        },
        "id": "IkMw2aSeYsyE",
        "outputId": "39504087-093b-430e-9858-4d3a5873253f"
      },
      "source": [
        "x_train"
      ],
      "execution_count": null,
      "outputs": [
        {
          "output_type": "execute_result",
          "data": {
            "text/plain": [
              "array([[ 1.4,  2. ,  3. ],\n",
              "       [-2. ,  3.9,  2. ],\n",
              "       [ 0.8,  2.1,  4. ],\n",
              "       [ 1. ,  1. ,  1. ]])"
            ]
          },
          "metadata": {
            "tags": []
          },
          "execution_count": 18
        }
      ]
    },
    {
      "cell_type": "code",
      "metadata": {
        "colab": {
          "base_uri": "https://localhost:8080/"
        },
        "id": "HVL2YYf8YpYX",
        "outputId": "6feff88d-442e-4d61-8c9f-bf91b9d84856"
      },
      "source": [
        "forward_pass(x_train, w)"
      ],
      "execution_count": null,
      "outputs": [
        {
          "output_type": "execute_result",
          "data": {
            "text/plain": [
              "array([[1.03726636, 3.09103408, 4.07725194]])"
            ]
          },
          "metadata": {
            "tags": []
          },
          "execution_count": 20
        }
      ]
    }
  ]
}